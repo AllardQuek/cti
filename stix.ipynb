{
 "cells": [
  {
   "cell_type": "code",
   "execution_count": 6,
   "metadata": {},
   "outputs": [],
   "source": [
    "from stix2 import FileSystemSource\n",
    "# fs = FileSystemSource('./cti/enterprise-attack')\n",
    "fs = FileSystemSource('./enterprise-attack')"
   ]
  },
  {
   "cell_type": "code",
   "execution_count": 7,
   "metadata": {},
   "outputs": [],
   "source": [
    "from stix2 import Filter\n",
    "\n",
    "# Query for data on all malwares\n",
    "malwares = fs.query(Filter(\"type\", \"=\", 'malware'))\n",
    "\n",
    "# Isolate Emotet's data in particular\n",
    "emotets = [m for m in malwares if m.name == 'Emotet']"
   ]
  },
  {
   "cell_type": "code",
   "execution_count": 8,
   "metadata": {},
   "outputs": [
    {
     "data": {
      "text/plain": [
       "'malware--32066e94-3112-48ca-b9eb-ba2b59d2f023'"
      ]
     },
     "execution_count": 8,
     "metadata": {},
     "output_type": "execute_result"
    }
   ],
   "source": [
    "emotets[0].id    # View Emotet's id"
   ]
  },
  {
   "cell_type": "code",
   "execution_count": 9,
   "metadata": {},
   "outputs": [],
   "source": [
    "# Query all relationships involving Emotet using its id\n",
    "all_rs = fs.query(Filter(\"type\", \"=\", 'relationship'))\n",
    "relationships = [r for r in all_rs if r.source_ref == 'malware--32066e94-3112-48ca-b9eb-ba2b59d2f023']"
   ]
  },
  {
   "cell_type": "code",
   "execution_count": 10,
   "metadata": {},
   "outputs": [
    {
     "name": "stdout",
     "output_type": "stream",
     "text": [
      "{\n",
      "    \"type\": \"relationship\",\n",
      "    \"id\": \"relationship--088ed15f-46da-4b32-a182-68553c61f09b\",\n",
      "    \"created_by_ref\": \"identity--c78cb6e5-0c4b-4611-8297-d1b8b55e40b5\",\n",
      "    \"created\": \"2019-04-01T15:06:38.851Z\",\n",
      "    \"modified\": \"2019-06-28T15:25:29.614Z\",\n",
      "    \"relationship_type\": \"uses\",\n",
      "    \"description\": \"[Emotet](https://attack.mitre.org/software/S0367) has been observed encrypting the data it collects before sending it to the C2 server.\",\n",
      "    \"source_ref\": \"malware--32066e94-3112-48ca-b9eb-ba2b59d2f023\",\n",
      "    \"target_ref\": \"attack-pattern--d54416bd-0803-41ca-870a-ce1af7c05638\",\n",
      "    \"external_references\": [\n",
      "        {\n",
      "            \"source_name\": \"Fortinet Emotet May 2017\",\n",
      "            \"description\": \"Xiaopeng Zhang. (2017, May 3). Deep Analysis of New Emotet Variant \\u2013 Part 1. Retrieved April 1, 2019.\",\n",
      "            \"url\": \"https://www.fortinet.com/blog/threat-research/deep-analysis-of-new-emotet-variant-part-1.html\"\n",
      "        }\n",
      "    ],\n",
      "    \"object_marking_refs\": [\n",
      "        \"marking-definition--fa42a846-8d90-4e51-bc29-71d5b4802168\"\n",
      "    ]\n",
      "}\n"
     ]
    }
   ],
   "source": [
    "print(relationships[0])"
   ]
  },
  {
   "cell_type": "code",
   "execution_count": 11,
   "metadata": {},
   "outputs": [],
   "source": [
    "# Store Emotet's attack patterns' ids in a list\n",
    "patterns = []\n",
    "\n",
    "for r in relationships:\n",
    "    patterns.append(r.target_ref)"
   ]
  },
  {
   "cell_type": "code",
   "execution_count": 12,
   "metadata": {},
   "outputs": [
    {
     "data": {
      "text/plain": [
       "['attack-pattern--d54416bd-0803-41ca-870a-ce1af7c05638',\n",
       " 'attack-pattern--4b74a1d4-b0e9-4ef1-93f1-14ecc6e2f5b5',\n",
       " 'attack-pattern--ba8e391f-14b5-496f-81f2-2d5ecd646c1c',\n",
       " 'attack-pattern--a93494bb-4b80-4ea1-8695-3236a49916fd',\n",
       " 'attack-pattern--01a5a209-b94c-450b-b7f9-946497d91055',\n",
       " 'attack-pattern--f72eb8a8-cd4c-461d-a814-3f862befbf00',\n",
       " 'attack-pattern--ffe742ed-9100-4686-9e00-c331da544787',\n",
       " 'attack-pattern--b17a1a56-e99c-403c-8948-561df0cffe81',\n",
       " 'attack-pattern--9422fc14-1c43-410d-ab0f-a709b76c72dc',\n",
       " 'attack-pattern--20138b9d-1aac-4a26-8654-a36b6bbf2bba',\n",
       " 'attack-pattern--92d7da27-2d91-488e-a00c-059dc162766d',\n",
       " 'attack-pattern--9db0cf3a-a3c9-4012-8268-123b9db6fd82',\n",
       " 'attack-pattern--f879d51c-5476-431c-aedf-f14d207e4d1e',\n",
       " 'attack-pattern--35dd844a-b219-4e2b-a6bb-efa9a75995a9',\n",
       " 'attack-pattern--f4882e23-8aa7-4b12-b28a-b349c12ee9e0',\n",
       " 'attack-pattern--7fd87010-3a00-4da3-b905-410525e8ec44',\n",
       " 'attack-pattern--c848fcf7-6b62-4bde-8216-b6c157d48da0',\n",
       " 'attack-pattern--8c32eb4d-805f-4fc5-bf60-c4d476c131b5',\n",
       " 'attack-pattern--b3d682b6-98f2-4fb0-aa3b-b4df007ca70a',\n",
       " 'attack-pattern--0a3ead4e-6d47-4ccb-854c-a6a4f9d96b22',\n",
       " 'attack-pattern--3257eb21-f9a7-4430-8de1-d8b6e288f529',\n",
       " 'attack-pattern--6aac77c4-eaf2-4366-8c13-ce50ab951f38',\n",
       " 'attack-pattern--6ff403bc-93e3-48be-8687-e102fdba8c88',\n",
       " 'attack-pattern--8f4a33ec-8b1f-4b80-a2f6-642b2e479580',\n",
       " 'attack-pattern--43e7dc91-05b2-474c-b9ac-2ed4fe101f4d',\n",
       " 'attack-pattern--1608f3e1-598a-42f4-a01a-2e252e81728f',\n",
       " 'attack-pattern--478aa214-2ca7-4ec0-9978-18798e514790',\n",
       " 'attack-pattern--7385dfaf-6886-4229-9ecd-6fd678040830']"
      ]
     },
     "execution_count": 12,
     "metadata": {},
     "output_type": "execute_result"
    }
   ],
   "source": [
    "patterns"
   ]
  },
  {
   "cell_type": "code",
   "execution_count": 8,
   "metadata": {},
   "outputs": [],
   "source": [
    "# Query all attack patterns\n",
    "filt = Filter('type', '=', 'attack-pattern')\n",
    "att = fs.query(filt)"
   ]
  },
  {
   "cell_type": "code",
   "execution_count": 9,
   "metadata": {},
   "outputs": [
    {
     "data": {
      "text/plain": [
       "AttackPattern(type='attack-pattern', id='attack-pattern--00d0b012-8a03-410e-95de-5826bf542de6', created_by_ref='identity--c78cb6e5-0c4b-4611-8297-d1b8b55e40b5', created='2017-05-31T21:30:54.176Z', modified='2018-10-17T00:14:20.652Z', name='Indicator Removal from Tools', description=\"If a malicious tool is detected and quarantined or otherwise curtailed, an adversary may be able to determine why the malicious tool was detected (the indicator), modify the tool by removing the indicator, and use the updated version that is no longer detected by the target's defensive systems or subsequent targets that may use similar systems.\\n\\nA good example of this is when malware is detected with a file signature and quarantined by anti-virus software. An adversary who can determine that the malware was quarantined because of its file signature may use [Software Packing](https://attack.mitre.org/techniques/T1045) or otherwise modify the file so it has a different signature, and then re-use the malware.\", kill_chain_phases=[KillChainPhase(kill_chain_name='mitre-attack', phase_name='defense-evasion')], external_references=[ExternalReference(source_name='mitre-attack', url='https://attack.mitre.org/techniques/T1066', external_id='T1066')], object_marking_refs=['marking-definition--fa42a846-8d90-4e51-bc29-71d5b4802168'], x_mitre_data_sources=['Process use of network', 'Process monitoring', 'Process command-line parameters', 'Anti-virus', 'Binary file metadata'], x_mitre_defense_bypassed=['Log analysis', 'Host intrusion prevention systems', 'Anti-virus'], x_mitre_detection='The first detection of a malicious tool may trigger an anti-virus or other security tool alert. Similar events may also occur at the boundary through network IDS, email scanning appliance, etc. The initial detection should be treated as an indication of a potentially more invasive intrusion. The alerting system should be thoroughly investigated beyond that initial alert for activity that was not detected. Adversaries may continue with an operation, assuming that individual events like an anti-virus detect will not be investigated or that an analyst will not be able to conclusively link that event to other activity occurring on the network.', x_mitre_platforms=['Linux', 'macOS', 'Windows'], x_mitre_version='1.0')"
      ]
     },
     "execution_count": 9,
     "metadata": {},
     "output_type": "execute_result"
    }
   ],
   "source": [
    "att[0]"
   ]
  },
  {
   "cell_type": "code",
   "execution_count": 10,
   "metadata": {},
   "outputs": [
    {
     "name": "stdout",
     "output_type": "stream",
     "text": [
      "266\n",
      "attack-pattern--00d0b012-8a03-410e-95de-5826bf542de6\n"
     ]
    }
   ],
   "source": [
    "print(len(att))     # 266 different attack patterns\n",
    "print(att[0].id)    # View 1st pattern's id"
   ]
  },
  {
   "cell_type": "code",
   "execution_count": 12,
   "metadata": {},
   "outputs": [
    {
     "name": "stdout",
     "output_type": "stream",
     "text": [
      "Data Encrypted\n",
      "Standard Cryptographic Protocol\n",
      "Credentials in Files\n",
      "Brute Force\n",
      "Windows Management Instrumentation\n",
      "Custom Command and Control Protocol\n",
      "Windows Admin Shares\n",
      "Valid Accounts\n",
      "Registry Run Keys / Startup Folder\n",
      "Spearphishing Link\n",
      "Exfiltration Over Command and Control Channel\n",
      "Exploitation of Remote Services\n",
      "Commonly Used Port\n",
      "Scheduled Task\n",
      "PowerShell\n",
      "Scripting\n",
      "Uncommonly Used Port\n",
      "User Execution\n",
      "Obfuscated Files or Information\n",
      "Credential Dumping\n",
      "Network Sniffing\n",
      "Spearphishing Attachment\n",
      "Software Packing\n",
      "Process Discovery\n",
      "Process Injection\n",
      "Email Collection\n",
      "New Service\n",
      "Command-Line Interface\n"
     ]
    }
   ],
   "source": [
    "# View names of all Emotet's patterns\n",
    "for id in patterns:\n",
    "    for a in att:\n",
    "        if a.id == id:\n",
    "            print(a.name)"
   ]
  },
  {
   "cell_type": "code",
   "execution_count": null,
   "metadata": {},
   "outputs": [],
   "source": []
  }
 ],
 "metadata": {
  "kernelspec": {
   "display_name": "Python 3",
   "language": "python",
   "name": "python3"
  },
  "language_info": {
   "codemirror_mode": {
    "name": "ipython",
    "version": 3
   },
   "file_extension": ".py",
   "mimetype": "text/x-python",
   "name": "python",
   "nbconvert_exporter": "python",
   "pygments_lexer": "ipython3",
   "version": "3.7.6"
  }
 },
 "nbformat": 4,
 "nbformat_minor": 2
}
